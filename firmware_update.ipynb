{
 "cells": [
  {
   "cell_type": "markdown",
   "metadata": {},
   "source": [
    "### Contraindicating Firmware Update"
   ]
  },
  {
   "cell_type": "code",
   "execution_count": null,
   "metadata": {},
   "outputs": [],
   "source": [
    "import pandas as pd\n",
    "import numpy as np\n",
    "import matplotlib.pyplot as plot\n",
    "import warnings\n",
    "from sklearn.naive_bayes import GaussianNB\n",
    "from sklearn import metrics\n",
    "from sklearn import preprocessing\n",
    "from sklearn.model_selection import train_test_split\n",
    "\n",
    "%matplotlib inline\n",
    "warnings.simplefilter(action='ignore', category=UserWarning)\n",
    "le = preprocessing.LabelEncoder()"
   ]
  },
  {
   "cell_type": "markdown",
   "metadata": {},
   "source": [
    "#### Read Firmware Update data from csv file."
   ]
  },
  {
   "cell_type": "code",
   "execution_count": null,
   "metadata": {},
   "outputs": [],
   "source": [
    "firmware_data = \"firmware_data_real.csv\"\n",
    "missing_values = ['*', '$', '-', '?', '-NA-', ',', 'n/a', 'na','NA', ' ']\n",
    "columns = [\"Firmware\", \"Version\", \"Firmware OS\", \"Device\", \"HardwareType\", \"Current Firmware Version\", \"Message\"]\n",
    "data = pd.read_csv(firmware_data, na_values=missing_values, skipinitialspace=True)\n",
    "df = pd.DataFrame(data=data, columns=columns)\n",
    "df.head(5)"
   ]
  },
  {
   "cell_type": "code",
   "execution_count": null,
   "metadata": {},
   "outputs": [],
   "source": [
    "# Frequency Table formation.\n",
    "firmware_data_frame = df.groupby(['Firmware', 'Device', 'Message']).size().reset_index(name=\"Occurance\")\n",
    "firmware_data_frame.head(5)"
   ]
  },
  {
   "cell_type": "markdown",
   "metadata": {},
   "source": [
    "#### Naive Bayes Classifier"
   ]
  },
  {
   "cell_type": "code",
   "execution_count": null,
   "metadata": {},
   "outputs": [],
   "source": [
    "# Adding Target attribute with Data Frame\n",
    "df['Result'] = df['Message'].apply(lambda x: True if x == \"Succefully update firmware\" else False)\n",
    "x_data_frame = df.drop(columns=['Message', 'Result'], axis=1)\n",
    "\n",
    "# Transforming data\n",
    "X = x_data_frame.apply(le.fit_transform)\n",
    "y = df.apply(le.fit_transform)\n",
    "\n",
    "# Spliting Training and Test data based on the tranformed data\n",
    "X_train, X_test, y_train, y_test = train_test_split(X, y, test_size=0.4) \n",
    "\n",
    "# Applying train and test data into gaussian algorithm\n",
    "model = GaussianNB()\n",
    "model.fit(X_train, y_train.Result)\n",
    "prediction = model.predict(X_test)\n",
    "pred_details = {0: \"Failure\", 1: \"Success\"}\n",
    "prediction_to_str = np.array([pred_details.get(i) for i in prediction])\n",
    "print(\"Predicted Details: {0}\".format(prediction_to_str))\n",
    "print(\"\")\n",
    "print(\"Accuracy of Data: {0}\".format(metrics.accuracy_score(y_test.Result, prediction)*100))"
   ]
  },
  {
   "cell_type": "code",
   "execution_count": null,
   "metadata": {},
   "outputs": [],
   "source": [
    "# Prediction based on user's static input.\n",
    "user_input_data = {\n",
    "    \"Firmware\": [\"Network_Firmware_6RGDW_WN64_09.00.03_A00-00.EXE\"],\n",
    "    \"Version\": [\"09.00.03\"],\n",
    "    \"Firmware OS\": [\"Windows\"],\n",
    "    \"Device\": [\"PER640\"],\n",
    "    \"HardwareType\": [\"Network Adatptor\"],\n",
    "    \"Current Firmware Version\": [\"08.00.45\"]\n",
    "}\n",
    "\n",
    "# Static transformation on data from dataframe.\n",
    "transformed_user_input = {\n",
    "    \"Firmware\": [8],\n",
    "    \"Version\": [2],\n",
    "    \"Firmware OS\": [2],\n",
    "    \"Device\": [7],\n",
    "    \"HardwareType\": [8],\n",
    "    \"Current Firmware Version\": [1]\n",
    "}\n",
    "\n",
    "user_input_df = pd.DataFrame.from_dict(transformed_user_input)\n",
    "user_input_prediction = model.predict(user_input_df)\n",
    "user_prediction_to_str = np.array([pred_details.get(i) for i in user_input_prediction])\n",
    "print(user_prediction_to_str)"
   ]
  },
  {
   "cell_type": "code",
   "execution_count": null,
   "metadata": {},
   "outputs": [],
   "source": [
    "# Prediction based on user's dynamic input\n",
    "user_static_input = {\n",
    "    \"Firmware\": [\"Network_Firmware_6RGDW_WN64_09.00.03_A00-00.EXE\", \"SAS-Drive_Firmware_R15M0_WN32_E774_A00.EXE\"],\n",
    "    \"Version\": [\"09.00.03\", \"E774\"],\n",
    "    \"Firmware OS\": [\"Windows\", \"Windows\"],\n",
    "    \"Device\": [\"PER640\", \"DX6000\"],\n",
    "    \"HardwareType\": [\"Network Adatptor\", \"SAS Drive\"],\n",
    "    \"Current Firmware Version\": [\"08.00.45\", \"E674\"]\n",
    "}\n",
    "\n",
    "# Converting user input to data frame.\n",
    "user_df = pd.DataFrame.from_dict(user_static_input)\n",
    "\n",
    "# Merging two dataframe.\n",
    "merged_df = pd.concat([df, user_df], keys=[\"A\", \"B\"], sort=False)\n",
    "merged_df.loc[\"B\"]\n",
    "\n",
    "# Transformation of data frame.\n",
    "trans_df = merged_df.apply(le.fit_transform)\n",
    "trans_df_key = trans_df.loc['B']\n",
    "trans_drop_clmn = trans_df_key.drop(columns=['Message', 'Result'])\n",
    "trans_pred = model.predict(trans_drop_clmn)\n",
    "trans_pred_to_str = np.array([pred_details.get(i) for i in trans_pred])\n",
    "print(trans_pred_to_str)"
   ]
  }
 ],
 "metadata": {
  "kernelspec": {
   "display_name": "Python 2",
   "language": "python",
   "name": "python2"
  },
  "language_info": {
   "codemirror_mode": {
    "name": "ipython",
    "version": 2
   },
   "file_extension": ".py",
   "mimetype": "text/x-python",
   "name": "python",
   "nbconvert_exporter": "python",
   "pygments_lexer": "ipython2",
   "version": "2.7.10"
  }
 },
 "nbformat": 4,
 "nbformat_minor": 2
}
